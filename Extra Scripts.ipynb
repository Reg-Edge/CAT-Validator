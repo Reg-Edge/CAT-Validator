{
 "cells": [
  {
   "cell_type": "code",
   "execution_count": 2,
   "metadata": {},
   "outputs": [],
   "source": [
    "import json\n",
    "import os"
   ]
  },
  {
   "cell_type": "markdown",
   "metadata": {},
   "source": [
    "# Convert CAT JSON file to csv format"
   ]
  },
  {
   "cell_type": "code",
   "execution_count": 3,
   "metadata": {},
   "outputs": [],
   "source": [
    "cat_schema_file = open('config/CAT_2d_schema.json', 'r')\n",
    "cat_schema = json.load(cat_schema_file)\n",
    "\n",
    "event_def = cat_schema['eventDefinitions']\n",
    "\n",
    "\n",
    "# display(event_def)\n",
    "\n",
    "\n",
    "def cat_json_to_csv(filepath):\n",
    "\n",
    "\n",
    "    cat_data_file = open(filepath, 'r')\n",
    "    csv_data_file = open('Input/1234_ABCD_20240101_TEST_OrderEvents_000001.csv', 'w')\n",
    "\n",
    "    for line in cat_data_file:\n",
    "        data = json.loads(line)\n",
    "\n",
    "        event_name = data['type']\n",
    "        event_schema = [x for x in event_def if x['eventName'] == event_name][0]\n",
    "        header_len = len(event_schema['fields'])\n",
    "\n",
    "        csv_array = [None]*header_len\n",
    "\n",
    "        for field in event_schema['fields']:\n",
    "            field_name = field['name']\n",
    "            ind = int(field['position']) - 1\n",
    "            csv_array[ind] = data.get(field_name, '')\n",
    "        \n",
    "        csv_data_file.write(','.join([str(x) for x in csv_array]) +'\\n')\n",
    "\n",
    "\n",
    "\n",
    "    # display(csv_file)\n",
    "\n",
    "\n",
    "cat_json_to_csv('Input/1234_ABCD_20240101_TEST_OrderEvents_000001.json')\n"
   ]
  },
  {
   "cell_type": "markdown",
   "metadata": {},
   "source": [
    "# Convert CSV to JSON"
   ]
  },
  {
   "cell_type": "code",
   "execution_count": 9,
   "metadata": {},
   "outputs": [],
   "source": [
    "cat_schema_file = open('config/CAT_2d_schema.json', 'r')\n",
    "cat_schema = json.load(cat_schema_file)\n",
    "\n",
    "event_def = cat_schema['eventDefinitions']\n",
    "\n",
    "\n",
    "# display(event_def)\n",
    "\n",
    "\n",
    "def cat_csv_to_json(filepath):\n",
    "    cat_data = []\n",
    "    cat_event = {}\n",
    "    cat_data_file = open(filepath, 'r')\n",
    "    json_data_file = open('Input/1234_ABCD_20240101_TEST_OrderEvents_000002.json', 'w')\n",
    "\n",
    "    for line in cat_data_file:\n",
    "        # Split line by delimiter\n",
    "        cat_event_temp = line.split(',')\n",
    "        event_type = cat_event_temp[3]\n",
    "        event_schema = [event for event in event_def if event['eventName'] == event_type][0]\n",
    "\n",
    "        # use event schema to convert csv to dictionary\n",
    "        for field in event_schema['fields']:\n",
    "            cat_event[field['name']] = cat_event_temp[int(field['position']) - 1]\n",
    "        \n",
    "        \n",
    "        json.dump(cat_event, json_data_file)\n",
    "        json_data_file.write('\\n')\n",
    "\n",
    "\n",
    "\n",
    "    # display(csv_file)\n",
    "\n",
    "\n",
    "cat_csv_to_json('Input/1234_ABCD_20240101_TEST_OrderEvents_000002.csv')\n"
   ]
  },
  {
   "cell_type": "markdown",
   "metadata": {},
   "source": [
    "# Count number of conditional fields across all CAT events"
   ]
  },
  {
   "cell_type": "code",
   "execution_count": 14,
   "metadata": {},
   "outputs": [
    {
     "data": {
      "text/plain": [
       "dict"
      ]
     },
     "execution_count": 14,
     "metadata": {},
     "output_type": "execute_result"
    }
   ],
   "source": [
    "cat_config_path = 'config/CAT_2d_schema.json'\n",
    "cat_config_file = open(cat_config_path)\n",
    "cat_config = json.load(cat_config_file)\n",
    "type(cat_config)"
   ]
  },
  {
   "cell_type": "code",
   "execution_count": 46,
   "metadata": {},
   "outputs": [
    {
     "data": {
      "text/plain": [
       "{'DVPCustodianID',\n",
       " 'RFQID',\n",
       " 'accountHolderType',\n",
       " 'aggregatedOrders',\n",
       " 'askAggregatedOrders',\n",
       " 'askPrice',\n",
       " 'askQty',\n",
       " 'atsDisplayInd',\n",
       " 'atsOrderType',\n",
       " 'bidAggregatedOrders',\n",
       " 'bidPrice',\n",
       " 'bidQty',\n",
       " 'buyDetails',\n",
       " 'cancelTimestamp',\n",
       " 'clearingFirm',\n",
       " 'clientDetails',\n",
       " 'correspondentCRD',\n",
       " 'counterparty',\n",
       " 'deskOrderID',\n",
       " 'destination',\n",
       " 'destinationType',\n",
       " 'displayPrice',\n",
       " 'displayQty',\n",
       " 'electronicTimestamp',\n",
       " 'errorROEID',\n",
       " 'exchOriginCode',\n",
       " 'firmDesignatedID',\n",
       " 'firmDetails',\n",
       " 'handlingInstructions',\n",
       " 'infoBarrierID',\n",
       " 'leavesQty',\n",
       " 'legDetails',\n",
       " 'manualOrderID',\n",
       " 'manualOrderKeyDate',\n",
       " 'marketCenterID',\n",
       " 'minQty',\n",
       " 'nbbPrice',\n",
       " 'nbbQty',\n",
       " 'nbboSource',\n",
       " 'nbboTimestamp',\n",
       " 'nboPrice',\n",
       " 'nboQty',\n",
       " 'netPrice',\n",
       " 'newOrderFDID',\n",
       " 'occClearingMemberID',\n",
       " 'openCloseIndicator',\n",
       " 'originatingIMID',\n",
       " 'pairedOrderID',\n",
       " 'parentOrderID',\n",
       " 'parentOrderKeyDate',\n",
       " 'price',\n",
       " 'priceType',\n",
       " 'priorAllocationID',\n",
       " 'priorAllocationKeyDate',\n",
       " 'priorDeskOrderID',\n",
       " 'priorFillKeyDate',\n",
       " 'priorFulfillmentID',\n",
       " 'priorOrderID',\n",
       " 'priorOrderKeyDate',\n",
       " 'priorQuoteID',\n",
       " 'priorQuoteKeyDate',\n",
       " 'priorRoutedOrderID',\n",
       " 'quantity',\n",
       " 'quoteID',\n",
       " 'quoteKeyDate',\n",
       " 'quoteWantedInd',\n",
       " 'receivedQuoteID',\n",
       " 'receiverIMID',\n",
       " 'reportingExceptionCode',\n",
       " 'representativeQuoteInd',\n",
       " 'requestTimestamp',\n",
       " 'routedOrderID',\n",
       " 'routedQuoteID',\n",
       " 'sellDetails',\n",
       " 'senderIMID',\n",
       " 'senderType',\n",
       " 'seqNum',\n",
       " 'session',\n",
       " 'settlementDate',\n",
       " 'side',\n",
       " 'tapeTradeID',\n",
       " 'triggerPrice',\n",
       " 'workingPrice'}"
      ]
     },
     "metadata": {},
     "output_type": "display_data"
    }
   ],
   "source": [
    "events = cat_config['eventDefinitions']\n",
    "\n",
    "\n",
    "unique_fields = set()\n",
    "\n",
    "for event in events:\n",
    "    # print(event['eventName'])\n",
    "\n",
    "    for field in event['fields']:\n",
    "        field_name = field['name']\n",
    "        if field['required'] == 'Conditional':\n",
    "            unique_fields.add(field_name)\n",
    "            # print(field_name, field['required'])\n",
    "\n",
    "display(unique_fields)\n",
    "# events[4]['fields'][0]['required']"
   ]
  }
 ],
 "metadata": {
  "kernelspec": {
   "display_name": "Python 3",
   "language": "python",
   "name": "python3"
  },
  "language_info": {
   "codemirror_mode": {
    "name": "ipython",
    "version": 3
   },
   "file_extension": ".py",
   "mimetype": "text/x-python",
   "name": "python",
   "nbconvert_exporter": "python",
   "pygments_lexer": "ipython3",
   "version": "3.12.2"
  }
 },
 "nbformat": 4,
 "nbformat_minor": 2
}
