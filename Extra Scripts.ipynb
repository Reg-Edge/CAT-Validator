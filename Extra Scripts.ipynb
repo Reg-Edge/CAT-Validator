{
 "cells": [
  {
   "cell_type": "code",
   "execution_count": 2,
   "metadata": {},
   "outputs": [],
   "source": [
    "import json\n",
    "import os"
   ]
  },
  {
   "cell_type": "markdown",
   "metadata": {},
   "source": [
    "# Convert CAT JSON file to csv format"
   ]
  },
  {
   "cell_type": "code",
   "execution_count": null,
   "metadata": {},
   "outputs": [],
   "source": [
    "def cat_json_to_csv(filepath):\n",
    "    pass\n",
    "\n",
    "\n"
   ]
  },
  {
   "cell_type": "code",
   "execution_count": 14,
   "metadata": {},
   "outputs": [
    {
     "data": {
      "text/plain": [
       "dict"
      ]
     },
     "execution_count": 14,
     "metadata": {},
     "output_type": "execute_result"
    }
   ],
   "source": [
    "cat_config_path = 'config/CAT_2d_schema.json'\n",
    "cat_config_file = open(cat_config_path)\n",
    "cat_config = json.load(cat_config_file)\n",
    "type(cat_config)"
   ]
  },
  {
   "cell_type": "code",
   "execution_count": 46,
   "metadata": {},
   "outputs": [
    {
     "data": {
      "text/plain": [
       "{'DVPCustodianID',\n",
       " 'RFQID',\n",
       " 'accountHolderType',\n",
       " 'aggregatedOrders',\n",
       " 'askAggregatedOrders',\n",
       " 'askPrice',\n",
       " 'askQty',\n",
       " 'atsDisplayInd',\n",
       " 'atsOrderType',\n",
       " 'bidAggregatedOrders',\n",
       " 'bidPrice',\n",
       " 'bidQty',\n",
       " 'buyDetails',\n",
       " 'cancelTimestamp',\n",
       " 'clearingFirm',\n",
       " 'clientDetails',\n",
       " 'correspondentCRD',\n",
       " 'counterparty',\n",
       " 'deskOrderID',\n",
       " 'destination',\n",
       " 'destinationType',\n",
       " 'displayPrice',\n",
       " 'displayQty',\n",
       " 'electronicTimestamp',\n",
       " 'errorROEID',\n",
       " 'exchOriginCode',\n",
       " 'firmDesignatedID',\n",
       " 'firmDetails',\n",
       " 'handlingInstructions',\n",
       " 'infoBarrierID',\n",
       " 'leavesQty',\n",
       " 'legDetails',\n",
       " 'manualOrderID',\n",
       " 'manualOrderKeyDate',\n",
       " 'marketCenterID',\n",
       " 'minQty',\n",
       " 'nbbPrice',\n",
       " 'nbbQty',\n",
       " 'nbboSource',\n",
       " 'nbboTimestamp',\n",
       " 'nboPrice',\n",
       " 'nboQty',\n",
       " 'netPrice',\n",
       " 'newOrderFDID',\n",
       " 'occClearingMemberID',\n",
       " 'openCloseIndicator',\n",
       " 'originatingIMID',\n",
       " 'pairedOrderID',\n",
       " 'parentOrderID',\n",
       " 'parentOrderKeyDate',\n",
       " 'price',\n",
       " 'priceType',\n",
       " 'priorAllocationID',\n",
       " 'priorAllocationKeyDate',\n",
       " 'priorDeskOrderID',\n",
       " 'priorFillKeyDate',\n",
       " 'priorFulfillmentID',\n",
       " 'priorOrderID',\n",
       " 'priorOrderKeyDate',\n",
       " 'priorQuoteID',\n",
       " 'priorQuoteKeyDate',\n",
       " 'priorRoutedOrderID',\n",
       " 'quantity',\n",
       " 'quoteID',\n",
       " 'quoteKeyDate',\n",
       " 'quoteWantedInd',\n",
       " 'receivedQuoteID',\n",
       " 'receiverIMID',\n",
       " 'reportingExceptionCode',\n",
       " 'representativeQuoteInd',\n",
       " 'requestTimestamp',\n",
       " 'routedOrderID',\n",
       " 'routedQuoteID',\n",
       " 'sellDetails',\n",
       " 'senderIMID',\n",
       " 'senderType',\n",
       " 'seqNum',\n",
       " 'session',\n",
       " 'settlementDate',\n",
       " 'side',\n",
       " 'tapeTradeID',\n",
       " 'triggerPrice',\n",
       " 'workingPrice'}"
      ]
     },
     "metadata": {},
     "output_type": "display_data"
    }
   ],
   "source": [
    "events = cat_config['eventDefinitions']\n",
    "\n",
    "\n",
    "unique_fields = set()\n",
    "\n",
    "for event in events:\n",
    "    # print(event['eventName'])\n",
    "\n",
    "    for field in event['fields']:\n",
    "        field_name = field['name']\n",
    "        if field['required'] == 'Conditional':\n",
    "            unique_fields.add(field_name)\n",
    "            # print(field_name, field['required'])\n",
    "\n",
    "display(unique_fields)\n",
    "# events[4]['fields'][0]['required']"
   ]
  }
 ],
 "metadata": {
  "kernelspec": {
   "display_name": "Python 3",
   "language": "python",
   "name": "python3"
  },
  "language_info": {
   "codemirror_mode": {
    "name": "ipython",
    "version": 3
   },
   "file_extension": ".py",
   "mimetype": "text/x-python",
   "name": "python",
   "nbconvert_exporter": "python",
   "pygments_lexer": "ipython3",
   "version": "3.12.0"
  }
 },
 "nbformat": 4,
 "nbformat_minor": 2
}
